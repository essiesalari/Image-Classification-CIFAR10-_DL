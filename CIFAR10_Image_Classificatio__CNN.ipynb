{
  "nbformat": 4,
  "nbformat_minor": 0,
  "metadata": {
    "colab": {
      "provenance": [],
      "authorship_tag": "ABX9TyMAogC1D2Q82VBjoGE9Rehk",
      "include_colab_link": true
    },
    "kernelspec": {
      "name": "python3",
      "display_name": "Python 3"
    },
    "language_info": {
      "name": "python"
    }
  },
  "cells": [
    {
      "cell_type": "markdown",
      "metadata": {
        "id": "view-in-github",
        "colab_type": "text"
      },
      "source": [
        "<a href=\"https://colab.research.google.com/github/essiesalari/Image-Classification-CIFAR10_DL/blob/main/CIFAR10_Image_Classificatio__CNN.ipynb\" target=\"_parent\"><img src=\"https://colab.research.google.com/assets/colab-badge.svg\" alt=\"Open In Colab\"/></a>"
      ]
    },
    {
      "cell_type": "markdown",
      "source": [
        "# **CIFAR10 Image Classification**"
      ],
      "metadata": {
        "id": "hFEOfI3OFgAw"
      }
    },
    {
      "cell_type": "markdown",
      "source": [
        "## Import Libraries and the Dataset"
      ],
      "metadata": {
        "id": "wEb-GCWQFuGA"
      }
    },
    {
      "cell_type": "code",
      "source": [
        "import numpy as np\n",
        "import os\n",
        "import time\n",
        "import pickle\n",
        "from tqdm import tnrange, tqdm_notebook\n",
        "from IPython import display\n",
        "\n",
        "import matplotlib\n",
        "import matplotlib.pyplot as plt\n",
        "matplotlib.rcParms['figure.figssize'] = (12, 5)\n",
        "\n",
        "import tensofrflow as tf\n",
        "import tensorflow.keras\n",
        "from tensorflow import keras\n",
        "from tensorflow.keras import models, layers, activations\n",
        "from keras.models import Model\n",
        "from PIL import Image, ImageFilter\n",
        "from keras import regularizers"
      ],
      "metadata": {
        "id": "D-yHfgitFfqp"
      },
      "execution_count": null,
      "outputs": []
    },
    {
      "cell_type": "code",
      "execution_count": null,
      "metadata": {
        "id": "UvfssbB9FMsk"
      },
      "outputs": [],
      "source": []
    }
  ]
}