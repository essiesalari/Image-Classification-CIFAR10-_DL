{
  "nbformat": 4,
  "nbformat_minor": 0,
  "metadata": {
    "colab": {
      "provenance": [],
      "authorship_tag": "ABX9TyNMDUJmcGsJuGBkw4Bn7suR",
      "include_colab_link": true
    },
    "kernelspec": {
      "name": "python3",
      "display_name": "Python 3"
    },
    "language_info": {
      "name": "python"
    }
  },
  "cells": [
    {
      "cell_type": "markdown",
      "metadata": {
        "id": "view-in-github",
        "colab_type": "text"
      },
      "source": [
        "<a href=\"https://colab.research.google.com/github/essiesalari/Image-Classification-CIFAR10_DL/blob/main/CIFAR10_Image_Classificatio__CNN.ipynb\" target=\"_parent\"><img src=\"https://colab.research.google.com/assets/colab-badge.svg\" alt=\"Open In Colab\"/></a>"
      ]
    },
    {
      "cell_type": "markdown",
      "source": [
        "# **CIFAR10 Image Classification**"
      ],
      "metadata": {
        "id": "hFEOfI3OFgAw"
      }
    },
    {
      "cell_type": "markdown",
      "source": [
        "## Import Libraries and the Dataset"
      ],
      "metadata": {
        "id": "wEb-GCWQFuGA"
      }
    },
    {
      "cell_type": "code",
      "source": [
        "import numpy as np\n",
        "import os\n",
        "import time\n",
        "import pickle\n",
        "from tqdm import tnrange, tqdm_notebook\n",
        "from IPython import display\n",
        "\n",
        "import matplotlib\n",
        "import matplotlib.pyplot as plt\n",
        "matplotlib.rcParams['figure.figsize'] = (12, 5)\n",
        "\n",
        "import tensorflow as tf\n",
        "import tensorflow.keras\n",
        "from tensorflow import keras\n",
        "from tensorflow.keras import models, layers, activations\n",
        "from keras.models import Model\n",
        "from PIL import Image, ImageFilter\n",
        "from keras import regularizers"
      ],
      "metadata": {
        "id": "D-yHfgitFfqp"
      },
      "execution_count": 22,
      "outputs": []
    },
    {
      "cell_type": "code",
      "execution_count": null,
      "metadata": {
        "id": "UvfssbB9FMsk"
      },
      "outputs": [],
      "source": [
        "from tensorflow.keras.utils import get_file\n",
        "origin_url = 'https://surfdrive.surf.nl/files/index.php/s/{key}/download'\n",
        "\n",
        "# Dictionary mapping file names to download keys\n",
        "files = {\n",
        "    'cifar10-batch-1': '4Nee36XgbYjp3N6',\n",
        "    'cifar10-batch-2': 'LVx85dLceKI5toF',\n",
        "    'cifar10-batch-3': '4FoFmeKyXa5sYr0',\n",
        "    'cifar10-batch-4': 'a4o2RatC0Fa3Exb',\n",
        "    'cifar10-batch-5': 'eqBJRWdkRGk025k',\n",
        "    'cifar10-test': 'nEf9Z4eg7iGmWGU'\n",
        "}\n",
        "\n",
        "# Doanload files to local drive\n",
        "local_files = [{'name': n,\n",
        "                'file': get_file(n, origin=origin_url.format(key=k))\n",
        "                } for n,k in files.items()]\n",
        "\n",
        "# Load all batches in memory\n",
        "batches = {lf['name']: pickle.load(open(lf['file'], 'rb'), encoding='latin1') for lf in local_files}\n",
        "\n",
        "# Convert data to floats and reshape to correct format (specifically for CIFAR10)\n",
        "for batch in batches.values():\n",
        "  batch['data'] = (batch['data'].reshape(-1, 3, 32, 32).transpose(0, 2, 3, 1) / 255.).astype('float32')\n",
        "\n",
        "data_size_in = (32, 32, 3)\n",
        "n_classes = 10"
      ]
    },
    {
      "cell_type": "code",
      "source": [
        "print(batches.keys())"
      ],
      "metadata": {
        "colab": {
          "base_uri": "https://localhost:8080/"
        },
        "id": "2JFjKPHrUE9_",
        "outputId": "4db07259-9149-4bc0-d22f-c4456e442f57"
      },
      "execution_count": 24,
      "outputs": [
        {
          "output_type": "stream",
          "name": "stdout",
          "text": [
            "dict_keys(['cifar10-batch-1', 'cifar10-batch-2', 'cifar10-batch-3', 'cifar10-batch-4', 'cifar10-batch-5', 'cifar10-test'])\n"
          ]
        }
      ]
    },
    {
      "cell_type": "code",
      "source": [
        "fig=plt.figure(figsize=(15, 2))\n",
        "for i in range(1,6):\n",
        "  plt.subplot(1, 5, i)\n",
        "  plt.hist(batches[f'cifar10-batch-{i}']['labels'], color='green')\n",
        "  plt.title(f'batch-{i}')"
      ],
      "metadata": {
        "colab": {
          "base_uri": "https://localhost:8080/",
          "height": 237
        },
        "id": "WN2YNqACUTK_",
        "outputId": "56556228-629d-4187-9be9-5f246ae5ddcc"
      },
      "execution_count": 26,
      "outputs": [
        {
          "output_type": "display_data",
          "data": {
            "text/plain": [
              "<Figure size 1500x200 with 5 Axes>"
            ],
            "image/png": "[encoded data removed]"
          },
          "metadata": {}
        }
      ]
    },
    {
      "cell_type": "markdown",
      "source": [
        "As it is clear from histograms, the distribution is balanced (not skewed).\n",
        "The margins between classes, in each batch, look acceptable, so we would not face any problem related to imbalanced data.\n",
        "\n",
        "\n",
        "\n"
      ],
      "metadata": {
        "id": "h4kdpp5lWAbV"
      }
    },
    {
      "cell_type": "markdown",
      "source": [
        "## Training, Validation and Test Split Function"
      ],
      "metadata": {
        "id": "_KRJhxWMW2GJ"
      }
    },
    {
      "cell_type": "code",
      "source": [
        "def load_data():\n",
        "\n",
        "  # Training set\n",
        "  train_x=np.zeros((40000, 32, 32, 3)).astype(\"float3\")\n",
        "  train_x[0:10000] = batches['cifar10-batch-1']['data']\n",
        "  train_x[10000:20000] = batches['cifar10-batch-2']['data']\n",
        "  train_x[20000:30000] = batches['cifar10-batch-3']['data']\n",
        "  train_x[30000:40000] = batches['cifar10-batch-4']['data']\n",
        "\n",
        "  train_y = np.zeros((40000))\n",
        "  train_y[0:10000] = batches['cifar10-batch-1']['labels']\n",
        "  train_y[10000:20000] = batches['cifar10-batch-2']['labels']\n",
        "  train_y[20000:30000] = batches['cifar10-batch-3']['labels']\n",
        "  train_y[30000:40000] = batches['cifar10-batch-4']['labels']\n",
        "\n",
        "  # Validation set\n",
        "  val_x = batches['cifar10-batch-5']['data']\n",
        "  val_y = batches['cifar10-batch-5']['labels']\n",
        "\n",
        "  # Test set\n",
        "  test_x = batches['cifar10-test']['data']\n",
        "\n",
        "  # Load labels\n",
        "  label_to_names = {0: 'airplane', 1: 'automobile', 2: 'bird',\n",
        "                    3: 'cat', 4: 'deer', 5: 'dog',\n",
        "                    6: 'frog', 7: 'horse',8: 'ship',\n",
        "                    9: 'truck'}\n",
        "\n",
        "  print (\"-----------------------------------------------------\")\n",
        "  print (label_to_names)\n",
        "  print (\"-----------------------------------------------------\")\n",
        "  print (f\"> shape training set tensor: {train_x.shape}\")\n",
        "  print (f\"> length training labels: {len(train_y)}\")\n",
        "  print (\"-----------------------------------------------------\")\n",
        "  print (f\"> shape validation set tensor: {val_x.shape}\")\n",
        "  print (f\"> length training labels: {len(val_y)}\")\n",
        "  print (\"-----------------------------------------------------\")\n",
        "  print (f\"> shape test set tensor: {test_x.shape}\")\n",
        "\n",
        "  return train_x, train_y, val_x, val_y, test_x"
      ],
      "metadata": {
        "id": "VDiHNEZ0VOcS"
      },
      "execution_count": 29,
      "outputs": []
    },
    {
      "cell_type": "markdown",
      "source": [
        "## Build the ConvNet_Ver01"
      ],
      "metadata": {
        "id": "OAzNMEUjaKNr"
      }
    },
    {
      "cell_type": "code",
      "source": [],
      "metadata": {
        "id": "9TYi1DlkaJ_3"
      },
      "execution_count": null,
      "outputs": []
    },
    {
      "cell_type": "code",
      "source": [],
      "metadata": {
        "id": "Em0z0iAoZsi0"
      },
      "execution_count": null,
      "outputs": []
    }
  ]
}