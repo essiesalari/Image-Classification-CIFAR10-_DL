{
  "nbformat": 4,
  "nbformat_minor": 0,
  "metadata": {
    "colab": {
      "provenance": [],
      "authorship_tag": "ABX9TyPFLSTvwNycLlGcRC9H9CZ7",
      "include_colab_link": true
    },
    "kernelspec": {
      "name": "python3",
      "display_name": "Python 3"
    },
    "language_info": {
      "name": "python"
    }
  },
  "cells": [
    {
      "cell_type": "markdown",
      "metadata": {
        "id": "view-in-github",
        "colab_type": "text"
      },
      "source": [
        "<a href=\"https://colab.research.google.com/github/essiesalari/Image-Classification-CIFAR10_DL/blob/main/CIFAR10_Image_Classificatio__CNN.ipynb\" target=\"_parent\"><img src=\"https://colab.research.google.com/assets/colab-badge.svg\" alt=\"Open In Colab\"/></a>"
      ]
    },
    {
      "cell_type": "markdown",
      "source": [
        "# **CIFAR10 Image Classification**"
      ],
      "metadata": {
        "id": "hFEOfI3OFgAw"
      }
    },
    {
      "cell_type": "markdown",
      "source": [
        "## Import Libraries and Dataset"
      ],
      "metadata": {
        "id": "wEb-GCWQFuGA"
      }
    },
    {
      "cell_type": "code",
      "source": [],
      "metadata": {
        "id": "D-yHfgitFfqp"
      },
      "execution_count": null,
      "outputs": []
    },
    {
      "cell_type": "code",
      "execution_count": null,
      "metadata": {
        "id": "UvfssbB9FMsk"
      },
      "outputs": [],
      "source": []
    }
  ]
}